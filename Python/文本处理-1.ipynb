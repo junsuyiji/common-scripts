{
 "cells": [
  {
   "cell_type": "code",
   "execution_count": 1,
   "metadata": {},
   "outputs": [],
   "source": [
    "import re\n",
    "from string import punctuation\n",
    "from itertools import groupby"
   ]
  },
  {
   "cell_type": "code",
   "execution_count": 2,
   "metadata": {},
   "outputs": [],
   "source": [
    "def delete_escape_character(text, lang=\"zh\", add_punc=False):\n",
    "    \"\"\"\n",
    "    @Desc: 删除文本中的转移字符\n",
    "    @Args: \n",
    "        text: 指定文本\n",
    "        lang: 该文本对应的语言\n",
    "        add_punc: 是否补全标点符号\n",
    "    @Returns: \n",
    "        删除后的文本\n",
    "    \"\"\"\n",
    "    list_text = list(text)\n",
    "    for idx, char in enumerate(list_text):\n",
    "        if char in [\"\\t\", \"\\v\", \"\\f\", \"\\r\", \"\\n\"]:\n",
    "            list_text[idx] = \"\"\n",
    "            if add_punc:\n",
    "                if lang == \"zh\":\n",
    "                    if list_text[idx-1] != \"。\":\n",
    "                        list_text[idx] = \"。\"\n",
    "                else:\n",
    "                    if list_text[idx-1] != \".\":\n",
    "                        list_text[idx] = \". \"\n",
    "    return \"\".join(list_text)"
   ]
  },
  {
   "cell_type": "code",
   "execution_count": 5,
   "metadata": {},
   "outputs": [
    {
     "name": "stdout",
     "output_type": "stream",
     "text": [
      "中国是一个美丽的地方请告诉我你在哪儿。我一定会去找你在我的怀里在你的眼里\n"
     ]
    }
   ],
   "source": [
    "zh_text = \"中国是一个美丽的地方\\n请告诉我你在哪儿。\\n我一定会去找你\\t在我的怀里\\t在你的眼里\"\n",
    "print(delete_escape_character(zh_text, lang=\"zh\", add_punc=False))"
   ]
  },
  {
   "cell_type": "code",
   "execution_count": 7,
   "metadata": {},
   "outputs": [
    {
     "name": "stdout",
     "output_type": "stream",
     "text": [
      "Today is sundaywe are happywe are fun.\n"
     ]
    }
   ],
   "source": [
    "en_text = \"Today is sunday\\nwe are happy\\nwe are fun.\"\n",
    "print(delete_escape_character(en_text, lang=\"en\", add_punc=False))"
   ]
  },
  {
   "cell_type": "code",
   "execution_count": 8,
   "metadata": {},
   "outputs": [],
   "source": [
    "def delete_extra_whitespace(text, lang=\"zh\"):\n",
    "    \"\"\"\n",
    "    @Desc: 删除文本中的多余空白\n",
    "    @Args:\n",
    "        text: 指定文本\n",
    "        lang: 该文本对应的语言\n",
    "    @Returns:\n",
    "        删除后的文本\n",
    "    \"\"\"\n",
    "    if lang == \"zh\":\n",
    "        return \"\".join(text.split())\n",
    "    else:\n",
    "        list_text = list(\" \".join(text.split()))\n",
    "        for index, ele in enumerate(list_text):\n",
    "            if index != 0 and ele in punctuation:\n",
    "                if list_text[index-1] == \" \":\n",
    "                    list_text[index-1] = \"\"\n",
    "        return \"\".join(list_text)\n"
   ]
  },
  {
   "cell_type": "code",
   "execution_count": 9,
   "metadata": {},
   "outputs": [
    {
     "name": "stdout",
     "output_type": "stream",
     "text": [
      "我们都非常快乐。\n",
      "Takin, is very useful.\n"
     ]
    }
   ],
   "source": [
    "zh_text = \"我 们  都非   常快 乐   。 \"\n",
    "en_text = \"Takin  ,    is very   useful  .    \"\n",
    "print(delete_extra_whitespace(zh_text, lang=\"zh\"))\n",
    "print(delete_extra_whitespace(en_text, lang=\"en\"))"
   ]
  },
  {
   "cell_type": "code",
   "execution_count": 10,
   "metadata": {},
   "outputs": [],
   "source": [
    "def delete_punctuation(text):\n",
    "    \"\"\"\n",
    "    @Desc: 删除文本中的所有标点符号 (运算符保留)\n",
    "    @Args: None\n",
    "    @Returns: None\n",
    "    \"\"\"\n",
    "    CHINESE_PUNC = r\"(，|。|、|？|！|“|”|‘|’|；|：|《|》|￥|（|）|〈|〉|·)\"\n",
    "    ENGLISH_PUNC = r\"(,|!|\\?|'|\\\"|…|-|\\$|@|\\[|\\]|{|}|_|\\^|#|<|>|\\(|\\)|&|\\\\|;|:)\"\n",
    "    SPECIAL_PUNC = r\"(╔|ˊ|η|●|®|•|~|★|\\||▶|–)\"\n",
    "    OPERATION_PATTERN = r\"(?<!\\d)(\\.|\\+|\\=|\\*|/|%)(?!\\d)\"\n",
    "\n",
    "    text = re.sub(CHINESE_PUNC, \"\", text)\n",
    "    text = re.sub(ENGLISH_PUNC, \"\", text)\n",
    "    text = re.sub(SPECIAL_PUNC, \"\", text)\n",
    "    text = re.sub(OPERATION_PATTERN, \"\", text)\n",
    "    return text"
   ]
  },
  {
   "cell_type": "code",
   "execution_count": 11,
   "metadata": {},
   "outputs": [
    {
     "name": "stdout",
     "output_type": "stream",
     "text": [
      "Long\n",
      "this day is a friday We are 3.123 90%   3. 中国 3/2=5 我峨嵋你\n"
     ]
    }
   ],
   "source": [
    "text1 = \"Long;:,.\\\"??!''·！？；，。：“”、‘’《》[╔ˊ〉〈–η●®·•-~#/*&$|★▶><\\^@+[=]()（）{%_}?…]\"\n",
    "text2 = \"this day is a friday. We are 3.123, 90%....   3. 中国, 3/2=5, 我峨%嵋你+\"\n",
    "print(delete_punctuation(text1))\n",
    "print(delete_punctuation(text2))"
   ]
  },
  {
   "cell_type": "code",
   "execution_count": 12,
   "metadata": {},
   "outputs": [],
   "source": [
    "def delete_letter(text):\n",
    "    \"\"\"\n",
    "    @Desc: 删除所有英文字母\n",
    "    @Args:\n",
    "        text: 指定文本\n",
    "    @Returns:\n",
    "        删除后的文本\n",
    "    \"\"\"\n",
    "    LETTER_PATTERN = r\"[A-Za-z]+\"\n",
    "    return re.sub(LETTER_PATTERN, \"\", text)"
   ]
  },
  {
   "cell_type": "code",
   "execution_count": 14,
   "metadata": {},
   "outputs": [
    {
     "name": "stdout",
     "output_type": "stream",
     "text": [
      "今天的真的非常啊！\n"
     ]
    }
   ],
   "source": [
    "text = \"今天的MoonCake真的非常nice啊！\"\n",
    "print(delete_letter(text))\n"
   ]
  },
  {
   "cell_type": "code",
   "execution_count": 15,
   "metadata": {},
   "outputs": [],
   "source": [
    "def delete_chinese(text):\n",
    "    \"\"\"\n",
    "    @Desc: 删除所有中文字符\n",
    "    @Args:\n",
    "        text: 指定文本\n",
    "    @Returns:\n",
    "        删除后的文本\n",
    "    \"\"\"\n",
    "    CHINESE_PATTERN = r\"[\\u4e00-\\u9fa5]+\"\n",
    "    return re.sub(CHINESE_PATTERN, \"\", text)"
   ]
  },
  {
   "cell_type": "code",
   "execution_count": 16,
   "metadata": {},
   "outputs": [
    {
     "name": "stdout",
     "output_type": "stream",
     "text": [
      "This is another victory!\n"
     ]
    }
   ],
   "source": [
    "text = \"This is another 胜利victory!\"\n",
    "print(delete_chinese(text))"
   ]
  },
  {
   "cell_type": "code",
   "execution_count": 17,
   "metadata": {},
   "outputs": [],
   "source": [
    "def delete_bracket(text):\n",
    "    \"\"\"\n",
    "    @Desc: 删除括号以及括号里的内容，包括 <*>、(*)、（*）、【*】、[*]、{*}\n",
    "    @Args:\n",
    "        text: 指定文本\n",
    "    @Returns:\n",
    "        删除后的文本\n",
    "    \"\"\"\n",
    "    BRACKET_PATTERN = r\"<.*>|\\(.*\\)|（.*）|【.*】|\\[.*\\]|{.*}\"\n",
    "    return re.sub(BRACKET_PATTERN, \"\", text)\n",
    "\n"
   ]
  },
  {
   "cell_type": "code",
   "execution_count": 18,
   "metadata": {},
   "outputs": [
    {
     "name": "stdout",
     "output_type": "stream",
     "text": [
      "机器阅读理解，教机器理解人类语言\n"
     ]
    }
   ],
   "source": [
    "text = \"机器阅读理解（MRC），【旨在】教机器理解人类语言(language){热爱学习}[hah]<hahgag>\"\n",
    "print(delete_bracket(text))"
   ]
  },
  {
   "cell_type": "code",
   "execution_count": 19,
   "metadata": {},
   "outputs": [],
   "source": [
    "def delete_series_number(text):\n",
    "    \"\"\"\n",
    "    @Desc: 删除文本中的序号\n",
    "    @Args:\n",
    "        text: 指定文本\n",
    "    @Returns:\n",
    "        删除后的文本\n",
    "    \"\"\" \n",
    "    # 1.|(2)|(2).|4)|4)、|（一）|（二）、 \n",
    "    SERIES_PATTERN = r\"\\d+\\.|\\(\\d+\\)\\.?|\\d+\\)(\\.|、)?|（(一|二|三|四|五|六|七|八|九|十|百|千|万|亿)+）(\\.|、)?\"\n",
    "    return re.sub(SERIES_PATTERN, \"\", text)"
   ]
  },
  {
   "cell_type": "code",
   "execution_count": 20,
   "metadata": {},
   "outputs": [
    {
     "name": "stdout",
     "output_type": "stream",
     "text": [
      "努力工作； 用心学习 用心学习；锻炼身体；热爱家庭快乐；学习, 集中学习 高度集中 \n"
     ]
    }
   ],
   "source": [
    "text = \"1.努力工作；2. 用心学习 (2).用心学习；(3)锻炼身体；4).热爱家庭快乐；6)学习, 7)、（一）、集中学习 （十五）高度集中 （一百二十三）\"\n",
    "print(delete_series_number(text))"
   ]
  },
  {
   "cell_type": "code",
   "execution_count": 21,
   "metadata": {},
   "outputs": [],
   "source": [
    "def delete_repeated_punc(text):\n",
    "    \"\"\"\n",
    "    @Desc: 连续重复的标点符号只保留一次\n",
    "    @Args:\n",
    "        text: 指定文本\n",
    "    @Returns:\n",
    "        删除后的文本\n",
    "    \"\"\"\n",
    "    punctuations = [';', ':', ',', '.', '\"', '?', '!', \"'\", '·', '！', '？', '；', '，', '。', '：', '“', '”', '、', '‘', '’', '《', '》', '[', '╔', 'ˊ', '〉', '〈', '–', 'η', '●', '®', '·', '•', '-', '~', '#', '/', '*', '&', '$', '|', '★', '▶', '>', '<', '\\\\', '^', '@', '+', '[', '=', ']', '(', ')', '（', '）', '{', '%', '_', '}', '?', '…']\n",
    "    t = [[k, len(list(g))] for k, g in groupby(text)]\n",
    "    res = \"\"\n",
    "    for ele in t:\n",
    "        char = ele[0]\n",
    "        count = ele[1]\n",
    "        if char in punctuations and count > 1:\n",
    "            count = 1\n",
    "        res += char * count\n",
    "    return res"
   ]
  },
  {
   "cell_type": "code",
   "execution_count": 22,
   "metadata": {},
   "outputs": [
    {
     "name": "stdout",
     "output_type": "stream",
     "text": [
      "what's up?.。《\n"
     ]
    }
   ],
   "source": [
    "text = \"what's up????????????????...。。《《《\"\n",
    "print(delete_repeated_punc(text))"
   ]
  }
 ],
 "metadata": {
  "kernelspec": {
   "display_name": "base",
   "language": "python",
   "name": "python3"
  },
  "language_info": {
   "codemirror_mode": {
    "name": "ipython",
    "version": 3
   },
   "file_extension": ".py",
   "mimetype": "text/x-python",
   "name": "python",
   "nbconvert_exporter": "python",
   "pygments_lexer": "ipython3",
   "version": "3.11.5"
  }
 },
 "nbformat": 4,
 "nbformat_minor": 2
}
