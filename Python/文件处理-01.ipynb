{
 "cells": [
  {
   "cell_type": "code",
   "execution_count": 1,
   "metadata": {},
   "outputs": [],
   "source": [
    "import os\n",
    "import json\n",
    "import glob\n",
    "import yaml\n",
    "import pandas as pd\n",
    "from openpyxl import Workbook, load_workbook\n"
   ]
  },
  {
   "cell_type": "code",
   "execution_count": null,
   "metadata": {},
   "outputs": [],
   "source": [
    "def load_single_json(in_path, prefix=None):\n",
    "    \"\"\"\n",
    "    @Desc: 加载Json文件，整个Json文件是一个python字典\n",
    "    @Args: \n",
    "        in_path: Json文件路径\n",
    "        prefix: 该字典的某个字段 (key，键)\n",
    "    @Returns: \n",
    "        python字典或列表\n",
    "    \"\"\"\n",
    "    with open(in_path, \"r\", encoding=\"utf-8\") as f:\n",
    "        if prefix:\n",
    "            data = json.load(f)[prefix]\n",
    "        else:\n",
    "            data = json.load(f)\n",
    "    return data\n",
    "    "
   ]
  },
  {
   "cell_type": "code",
   "execution_count": null,
   "metadata": {},
   "outputs": [],
   "source": [
    "def load_multi_json(in_path):\n",
    "    \"\"\"\n",
    "    @Desc: 加载Json文件，一行是一个python字典\n",
    "    @Args: \n",
    "        in_path: Json文件路径\n",
    "    @Returns:\n",
    "        python列表\n",
    "    \"\"\"\n",
    "    with open(in_path, \"r\", encoding=\"utf-8\") as f:\n",
    "        data = [json.loads(line.strip()) for line in f]\n",
    "    return data"
   ]
  },
  {
   "cell_type": "code",
   "execution_count": null,
   "metadata": {},
   "outputs": [],
   "source": [
    "def write_json(data, out_path):\n",
    "    \"\"\"\n",
    "    @Desc: 将python字典或字典列表写入Json文件\n",
    "    @Args: \n",
    "        data: python字典或者字典列表\n",
    "    @Returns: \n",
    "        输出json文件\n",
    "    \"\"\"\n",
    "    with open(out_path, \"w\", encoding=\"utf-8\") as f:\n",
    "        if isinstance(data, list):\n",
    "            for ele in data:\n",
    "                if isinstance(ele, dict):\n",
    "                    f.write(\"{}\\n\".format(json.dumps(ele, ensure_ascii=False)))\n",
    "        elif isinstance(data, dict):\n",
    "            f.write(json.dumps(data, ensure_ascii=False, indent=4))\n",
    "        else:\n",
    "            raise Exception(\"写入json数据的文件格式不正确\")\n",
    "    "
   ]
  },
  {
   "cell_type": "code",
   "execution_count": null,
   "metadata": {},
   "outputs": [],
   "source": [
    "def output_filenames(in_directory, file_type):\n",
    "    \"\"\"\n",
    "    @Desc: 输出给定目录里的所有指定文件类型的绝对路径\n",
    "    @Args: \n",
    "        in_directory: 给定目录\n",
    "        file_type: 指定文件类型\n",
    "    @Returns: \n",
    "        路径List\n",
    "    \"\"\"\n",
    "    specific_directory = os.path.join(in_directory, \"*.{}\".format(file_type))\n",
    "    return glob.glob(specific_directory)"
   ]
  },
  {
   "cell_type": "code",
   "execution_count": null,
   "metadata": {},
   "outputs": [],
   "source": [
    "def load_single_txt(in_path, keep_enter=False):\n",
    "    \"\"\"\n",
    "    @Desc: 加载单个纯文本文件\n",
    "    @Args: \n",
    "        in_path: 纯文本文件路径\n",
    "        keep_enter: 用来确定是否保留每一行的换行符\"\\n\"\n",
    "    @Returns: \n",
    "        python列表\n",
    "    \"\"\"\n",
    "    data = []\n",
    "    with open(in_path, \"r\", encoding=\"utf-8\") as f:\n",
    "        for line in f:\n",
    "            if keep_enter:\n",
    "                data.append(line)\n",
    "            else:\n",
    "                if line.strip():\n",
    "                    data.append(line.strip())\n",
    "    return data\n"
   ]
  },
  {
   "cell_type": "code",
   "execution_count": null,
   "metadata": {},
   "outputs": [],
   "source": [
    "def load_multi_txt(in_directory, file_type, keep_enter=False):\n",
    "    \"\"\"\n",
    "    @Desc: 加载给定目录里的所有纯文本文件\n",
    "    @Args: \n",
    "        in_directory: 给定目录\n",
    "        file_type: 文件类型\n",
    "        keep_enter: 是否保留换行符\n",
    "    @Returns: \n",
    "        python列表\n",
    "    \"\"\"\n",
    "    filenames = output_filenames(in_directory, file_type)\n",
    "    data = []\n",
    "    for filename in filenames:\n",
    "        res = load_single_txt(filename, keep_enter=keep_enter)\n",
    "        data.extend(res)\n",
    "    return data"
   ]
  },
  {
   "cell_type": "code",
   "execution_count": 2,
   "metadata": {},
   "outputs": [],
   "source": [
    "def write_txt(data, out_path):\n",
    "    \"\"\"\n",
    "    @Desc: 将python列表数据写入纯文本文件\n",
    "    @Args: \n",
    "        data: [\"今天天气晴朗\", \"适合爬山\"]\n",
    "        out_path: 输出的额纯文本文件路径\n",
    "    @Returns: \n",
    "    \"\"\"\n",
    "    with open(out_path, \"w\", encoding=\"utf-8\") as f:\n",
    "        for ele in data:\n",
    "            f.write(ele.strip() + \"\\n\")\n"
   ]
  },
  {
   "cell_type": "code",
   "execution_count": null,
   "metadata": {},
   "outputs": [],
   "source": [
    "def load_yaml(in_path):\n",
    "    \"\"\"\n",
    "    @Desc: 加载yaml参数配置文件\n",
    "    @Args: \n",
    "        in_path: yaml文件路径 \n",
    "    @Returns: \n",
    "        python字典\n",
    "    \"\"\"\n",
    "    with open(in_path, \"r\", encoding=\"utf-8\") as f:\n",
    "        data = yaml.load(f, Loader=yaml.FullLoader)\n",
    "    return data"
   ]
  },
  {
   "cell_type": "code",
   "execution_count": null,
   "metadata": {},
   "outputs": [],
   "source": [
    "def write_excel(data, out_path, sheet_name=\"Sheet\"):\n",
    "\n",
    "    \"\"\"\n",
    "    @Desc: 将数据写入excel文件\n",
    "    @Args: \n",
    "        data: {\"列名1\":[ele1, ele2], \"列名2\": [ele1, ele2]}\n",
    "        out_path: *.xlsx\n",
    "        sheet_name: 表单名\n",
    "    @Returns: \n",
    "        excel文件\n",
    "    \"\"\"\n",
    "    if os.path.exists(out_path):\n",
    "        book = load_workbook(out_path)\n",
    "        writer = pd.ExcelWriter(out_path, engine=\"openpyxl\", mode=\"a\")\n",
    "        writer.book = book\n",
    "    else:\n",
    "        book = Workbook()\n",
    "        writer = pd.ExcelWriter(out_path, engine=\"openpyxl\", mode=\"w\")\n",
    "    df = pd.DataFrame(data)\n",
    "    df.to_excel(writer, sheet_name=sheet_name, index=False)\n",
    "    writer.save()"
   ]
  }
 ],
 "metadata": {
  "kernelspec": {
   "display_name": "base",
   "language": "python",
   "name": "python3"
  },
  "language_info": {
   "codemirror_mode": {
    "name": "ipython",
    "version": 3
   },
   "file_extension": ".py",
   "mimetype": "text/x-python",
   "name": "python",
   "nbconvert_exporter": "python",
   "pygments_lexer": "ipython3",
   "version": "3.11.5"
  }
 },
 "nbformat": 4,
 "nbformat_minor": 2
}
